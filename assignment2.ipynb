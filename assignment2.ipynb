{
 "cells": [
  {
   "cell_type": "markdown",
   "source": [
    "# Functions\n",
    "\n"
   ],
   "metadata": {
    "collapsed": false
   },
   "id": "702c2a803589db1a"
  },
  {
   "cell_type": "code",
   "outputs": [],
   "source": [
    "from IPython.display import Markdown, display\n",
    "\n",
    "\n",
    "\n",
    "    \n",
    "def extract_sim_seconds(file_path):\n",
    "    '''\n",
    "    From `filename`, extract the 2nd field data of the line with field \"simSeconds\".\n",
    "    '''\n",
    "    with open(file_path, 'r') as file:\n",
    "        for line in file:\n",
    "            if 'simSeconds' in line:\n",
    "                return line.split()[1]\n",
    "\n",
    "\n"
   ],
   "metadata": {
    "collapsed": false
   },
   "id": "92dc3fafee25878f"
  },
  {
   "cell_type": "markdown",
   "source": [
    "# Step1\n",
    "In this step, we will run simulations with different workloads.\n",
    "| Workload             | Performance           |\n",
    "| -------------------- | --------------------- |\n",
    "| `DAXPYWorkload`      |     |\n",
    "| `HelloWorldWorkload` |  |"
   ],
   "metadata": {
    "collapsed": false
   },
   "id": "520f30d3842cb6dd"
  },
  {
   "cell_type": "code",
   "outputs": [],
   "source": [
    "def store_result(workload, filepath, results):\n",
    "    sim_seconds = extract_sim_seconds(filepath)\n",
    "    results.append((workload, sim_seconds))\n",
    "    \n",
    "def print_results_table(results):\n",
    "    markdown_table = \"| Workload             | Performance (ms)         |\\n\"\n",
    "    markdown_table += \"| -------------------- | --------------------- |\\n\"\n",
    "    for workload, performance in results:\n",
    "        markdown_table += f\"| `{workload}` | {performance} |\\n\"\n",
    "    display(Markdown(markdown_table))"
   ],
   "metadata": {
    "collapsed": false
   },
   "id": "c296d006a88d8a1c"
  },
  {
   "cell_type": "code",
   "outputs": [],
   "source": [
    "results = []\n",
    "\n",
    "!gem5 -re --outdir=out_step1_01 --workload=DAXPYWorkload\n",
    "\n",
    "store_result(\"DAXPYWorkload\", 'out_step1_01/stats.out', results)\n",
    "\n",
    "!gem5 -re --outdir=out_step1_02 --workload=HelloWorldWorkload\n",
    "\n",
    "store_result(\"HelloWorldWorkload\", 'out_step1_02/stats.out', results)\n",
    "\n",
    "print_results_table(results)"
   ],
   "metadata": {
    "collapsed": false
   },
   "id": "e46ba8ece3167f21"
  },
  {
   "cell_type": "code",
   "outputs": [],
   "source": [],
   "metadata": {
    "collapsed": false
   },
   "id": "d47b7ddb4f4c670a"
  },
  {
   "cell_type": "markdown",
   "source": [
    "# Step2\n"
   ],
   "metadata": {
    "collapsed": false
   },
   "id": "5ddbeca351ced0a2"
  }
 ],
 "metadata": {
  "kernelspec": {
   "display_name": "Python 3",
   "language": "python",
   "name": "python3"
  },
  "language_info": {
   "codemirror_mode": {
    "name": "ipython",
    "version": 2
   },
   "file_extension": ".py",
   "mimetype": "text/x-python",
   "name": "python",
   "nbconvert_exporter": "python",
   "pygments_lexer": "ipython2",
   "version": "2.7.6"
  }
 },
 "nbformat": 4,
 "nbformat_minor": 5
}
